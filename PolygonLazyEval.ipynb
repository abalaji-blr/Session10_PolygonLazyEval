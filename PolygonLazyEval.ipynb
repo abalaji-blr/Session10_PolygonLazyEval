{
  "nbformat": 4,
  "nbformat_minor": 0,
  "metadata": {
    "colab": {
      "name": "PolygonLazyEval.ipynb",
      "provenance": [],
      "collapsed_sections": [],
      "authorship_tag": "ABX9TyPI4DuxKFmBdxFexXht2nn6",
      "include_colab_link": true
    },
    "kernelspec": {
      "name": "python3",
      "display_name": "Python 3"
    },
    "language_info": {
      "name": "python"
    }
  },
  "cells": [
    {
      "cell_type": "markdown",
      "metadata": {
        "id": "view-in-github",
        "colab_type": "text"
      },
      "source": [
        "<a href=\"https://colab.research.google.com/github/abalaji-blr/Session10_PolygonLazyEval/blob/main/PolygonLazyEval.ipynb\" target=\"_parent\"><img src=\"https://colab.research.google.com/assets/colab-badge.svg\" alt=\"Open In Colab\"/></a>"
      ]
    },
    {
      "cell_type": "code",
      "execution_count": 18,
      "metadata": {
        "colab": {
          "base_uri": "https://localhost:8080/"
        },
        "id": "X69_dsoL-y4g",
        "outputId": "e7ff7dec-2e75-495a-9845-1b961b086e1c"
      },
      "outputs": [
        {
          "output_type": "stream",
          "name": "stdout",
          "text": [
            "Mounted at /content/gdrive\n"
          ]
        }
      ],
      "source": [
        "from google.colab import drive\n",
        "drive.mount('/content/gdrive', force_remount=True)"
      ]
    },
    {
      "cell_type": "code",
      "source": [
        "import sys\n",
        "sys.path.append('/content/gdrive/MyDrive/Python/PolygonLazyEval')"
      ],
      "metadata": {
        "id": "FxsR6e4jCnAJ"
      },
      "execution_count": 19,
      "outputs": []
    },
    {
      "cell_type": "markdown",
      "source": [
        "# Imports"
      ],
      "metadata": {
        "id": "6UDHPZBLC2Vw"
      }
    },
    {
      "cell_type": "code",
      "source": [
        "from polygon import RegConvexPolygon\n",
        "from polygon_seq import PolygonIterator\n",
        "from polygon_seq import Polygons"
      ],
      "metadata": {
        "id": "zlYuBF7xDHN-"
      },
      "execution_count": 20,
      "outputs": []
    },
    {
      "cell_type": "code",
      "source": [
        "p1 = RegConvexPolygon(4,2)"
      ],
      "metadata": {
        "id": "Aqh83cnCDWxa"
      },
      "execution_count": 21,
      "outputs": []
    },
    {
      "cell_type": "code",
      "source": [
        "print(p1.num_vertices)\n",
        "print(p1.circumradius)\n",
        "print(p1.edge_length)\n",
        "print(p1.interior_angle)\n",
        "print(p1.apothem)\n",
        "print(p1.area)\n",
        "print(p1.perimeter)"
      ],
      "metadata": {
        "colab": {
          "base_uri": "https://localhost:8080/"
        },
        "id": "TowCKJ62DbEo",
        "outputId": "e01468bb-2886-4fdb-ccff-4cb3172db611"
      },
      "execution_count": 22,
      "outputs": [
        {
          "output_type": "stream",
          "name": "stdout",
          "text": [
            "4\n",
            "2\n",
            "2.82842712474619\n",
            "90.0\n",
            "1.4142135623730951\n",
            "8.0\n",
            "11.31370849898476\n"
          ]
        }
      ]
    },
    {
      "cell_type": "code",
      "source": [
        "p1 = RegConvexPolygon(10, 4)\n",
        "p2 = RegConvexPolygon(10, 4)\n",
        "p3 = RegConvexPolygon(100, 2)\n",
        "p4 = RegConvexPolygon(2, 100)\n",
        "p5 = RegConvexPolygon(10, 2)\n",
        "\n",
        "assert p1 == p2\n",
        "assert p1 != p5\n",
        "assert p3 > p4\n",
        "assert p3 > p2"
      ],
      "metadata": {
        "id": "TyyxKsOpFVgE"
      },
      "execution_count": 23,
      "outputs": []
    },
    {
      "cell_type": "code",
      "source": [
        "p = Polygons(5, 2)"
      ],
      "metadata": {
        "id": "CSYel7VoFbbr"
      },
      "execution_count": 24,
      "outputs": []
    },
    {
      "cell_type": "code",
      "source": [
        "p.max_efficiency"
      ],
      "metadata": {
        "colab": {
          "base_uri": "https://localhost:8080/"
        },
        "id": "_SOLtWEkFf5d",
        "outputId": "defc4628-390b-4cca-9137-cc5871ccba0e"
      },
      "execution_count": 25,
      "outputs": [
        {
          "output_type": "execute_result",
          "data": {
            "text/plain": [
              "Regular Convex Polygon with 5 vertices and 2 circumradius"
            ]
          },
          "metadata": {},
          "execution_count": 25
        }
      ]
    },
    {
      "cell_type": "code",
      "source": [
        "p = Polygons(25,2)"
      ],
      "metadata": {
        "id": "6JXojxu6G3Kg"
      },
      "execution_count": 26,
      "outputs": []
    },
    {
      "cell_type": "code",
      "source": [
        "p.max_efficiency"
      ],
      "metadata": {
        "colab": {
          "base_uri": "https://localhost:8080/"
        },
        "id": "hNHYv72hHVOU",
        "outputId": "e0636c5d-87a5-404c-dad5-f39993857702"
      },
      "execution_count": 27,
      "outputs": [
        {
          "output_type": "execute_result",
          "data": {
            "text/plain": [
              "Regular Convex Polygon with 25 vertices and 2 circumradius"
            ]
          },
          "metadata": {},
          "execution_count": 27
        }
      ]
    },
    {
      "cell_type": "code",
      "source": [
        "[p for p in PolygonIterator(6,2)]"
      ],
      "metadata": {
        "colab": {
          "base_uri": "https://localhost:8080/"
        },
        "id": "L0V5jXIvHv0V",
        "outputId": "07c06458-abb4-4ac3-e7aa-31e43bde5ed5"
      },
      "execution_count": 28,
      "outputs": [
        {
          "output_type": "execute_result",
          "data": {
            "text/plain": [
              "[Regular Convex Polygon with 3 vertices and 2 circumradius,\n",
              " Regular Convex Polygon with 4 vertices and 2 circumradius,\n",
              " Regular Convex Polygon with 5 vertices and 2 circumradius,\n",
              " Regular Convex Polygon with 6 vertices and 2 circumradius]"
            ]
          },
          "metadata": {},
          "execution_count": 28
        }
      ]
    },
    {
      "cell_type": "code",
      "source": [
        ""
      ],
      "metadata": {
        "id": "26UlwUeXH6l3"
      },
      "execution_count": 28,
      "outputs": []
    }
  ]
}